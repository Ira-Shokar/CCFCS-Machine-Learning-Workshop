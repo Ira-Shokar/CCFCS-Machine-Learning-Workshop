{
 "cells": [
  {
   "cell_type": "code",
   "execution_count": 1,
   "metadata": {},
   "outputs": [
    {
     "name": "stderr",
     "output_type": "stream",
     "text": [
      "2022-02-22 13:28:05.153704: W tensorflow/stream_executor/platform/default/dso_loader.cc:64] Could not load dynamic library 'libcudart.so.11.0'; dlerror: libcudart.so.11.0: cannot open shared object file: No such file or directory; LD_LIBRARY_PATH: /alt/applic/spack/linux-ubuntu16.04-x86_64/gcc-7.2.0/miniconda3-4.8.2-iiyixgv4a7vez23nbdd2kgwrzfmm3wpp/lib\n",
      "2022-02-22 13:28:05.153791: I tensorflow/stream_executor/cuda/cudart_stub.cc:29] Ignore above cudart dlerror if you do not have a GPU set up on your machine.\n"
     ]
    }
   ],
   "source": [
    "import numpy as np, matplotlib.pyplot as plt, tensorflow as tf, tensorflow.keras as keras # Package imports "
   ]
  },
  {
   "cell_type": "markdown",
   "metadata": {},
   "source": [
    "# Neural Networks - Deep Learning"
   ]
  },
  {
   "cell_type": "markdown",
   "metadata": {},
   "source": [
    "Inspired by the brain, the neurons refer to objects that hold information, and they are connected by functions that form the network structure.\n",
    "\n",
    "Basic network strucures have an input layer, of size corresponding to the \"dimension\" of the incoming data, and an outplut layer that is specific to the task. For a regression task this may be a single neuron, to give a single value, or for a classification task this would correspond to the number of classes.\n",
    "\n",
    "What makes Neural Networks powerful, over the methods used earlier is their ability to have hidden layer between the input and output layers, and this ability to nest operations makes them able to capture more complex patterns in the data - these additional layers are referred to as 'Hidden Layers'."
   ]
  },
  {
   "cell_type": "markdown",
   "metadata": {},
   "source": [
    "![FFNN](img/nn.png)"
   ]
  },
  {
   "cell_type": "markdown",
   "metadata": {},
   "source": [
    "This image shows a feed forward neural network- named as such because nothing particualrly special is taking place, the outputs of one layer, become the inputs to the next layer, and thus the information is few forward through the network from the input layer to the output layer.\n",
    "\n",
    "This strucure is supposed to be loosely based on biological structures, such as the brain, where information from one neuron firing causes other neurons to fire.\n",
    "\n",
    "As mentioned this is a Feed Forward Neural Network, however there are other network architectures that are used for various tasks, some basic examples are:\n",
    "\n",
    "Other Types of Network Architectures:\n",
    "    - Convolutional Neural Network - Image Processing\n",
    "    - Recurrent Neural Networks - Time Series Data\n",
    "    - Graph Neural Network - \n",
    "\n",
    "\n",
    "However, there are variations of each of these, and developing new archictures is a very active research field, where the balance between model acuracy and computataional expense are being ...\n",
    "\n",
    "As with the other machine learning methods mentioned earlier, a model must be trained on data, before the trained model can be used for inference on new data. Again, the data can come in both the form of labelled and unlabelled data for various supervised and unsupervised tasks.\n",
    "\n",
    "For this workshop we will be looking at an image recognition task, one to classify handwritten digits, which is a \"canconical\" task, using the MNIST dataset - which is a labelled dataset with ...\n",
    "\n",
    "Here the inputs to the network are the N x N pixel images, and the output layer consists of 10 neurons, each reprenting a value in the set of [0, 9]. Here a trained network should be able to take in an input image, process what within the image characterises the digit that is represents, and with that information, will pass an array of values to the final layer. Here the output will be that array of 10 values, that correspond 'anaolgously' to the network's confidence in classifying the image as that value. I.e., as can be seen here, the network, attibutes the largest value to the number 'N' - which can be interpreteed as the network 'guessing' that this image is a number 'N', while, with a small probability, ...\n",
    "\n",
    "Now how would the network learn these features, before jumping into the mathematics of this process, lets think of how a human would learn identifiy a '9' for example. One may first identify the loop at the top, and secondarily the the line that comes down from that loop. Of course when also shown another image of a 9, a human can still indentify that the image is indeed of a 9, eventhough the image is not quite the same as the fist, where the loop is different and the line is now curved. When training out network, we hope that it too would be invarient to these small differences and would not classify based on exact locations of pixels within the image domian, but use structres, or features, within the image that are learnt to corespond to the image label.\n",
    "\n",
    "This is where the notion of layers comes in ... not specific to images here, this could be a time series corresponding to speech, where raw audo must be broken down into district sounds that together form syllables which in turn form words... breaks down into layers of abstraction ...\n",
    "\n",
    "\n",
    "\n",
    "\n",
    "\n",
    "\n",
    "\n",
    "\n",
    "\n",
    "So what is training and how can these networks?\n",
    "\n",
    "https://codelabs.developers.google.com/codelabs/cloud-tensorflow-mnist#3\n",
    "\n",
    "\n",
    "Talk about network strucuter and funtions\n",
    "\n",
    "Once a network has been trained ...\n",
    "\n",
    "\n",
    "Within this strucutre there is room for experimentation to obtain an network strucutre that is optimal for the task, parameters ...\n",
    "\n"
   ]
  },
  {
   "cell_type": "code",
   "execution_count": 18,
   "metadata": {},
   "outputs": [
    {
     "name": "stdout",
     "output_type": "stream",
     "text": [
      "X_train shape (60000, 28, 28)\n",
      "y_train shape (60000,)\n",
      "X_test shape (10000, 28, 28)\n",
      "y_test shape (10000,)\n"
     ]
    }
   ],
   "source": [
    "# import MNIST dataset\n",
    "# The MNIST data is split between 60,000 28 x 28 pixel training images and 10,000 28 x 28 pixel images\n",
    "(X_train, y_train), (X_test, y_test) = keras.datasets.mnist.load_data()\n",
    "\n",
    "print(\"X_train shape\", X_train.shape)\n",
    "print(\"y_train shape\", y_train.shape)\n",
    "print(\"X_test shape\", X_test.shape)\n",
    "print(\"y_test shape\", y_test.shape)"
   ]
  },
  {
   "cell_type": "code",
   "execution_count": 5,
   "metadata": {},
   "outputs": [
    {
     "data": {
      "image/png": "[encoded data removed]",
      "text/plain": [
       "<Figure size 648x648 with 9 Axes>"
      ]
     },
     "metadata": {
      "needs_background": "light"
     },
     "output_type": "display_data"
    }
   ],
   "source": [
    "plt.figure(figsize=(9,9))\n",
    "\n",
    "for i in range(9):\n",
    "    plt.subplot(3,3,i+1)\n",
    "    num = np.random.randint(0, len(X_train))\n",
    "    plt.imshow(X_train[num], cmap='gray', interpolation='none')\n",
    "    plt.title(\"Class {}\".format(y_train[num]))"
   ]
  },
  {
   "cell_type": "code",
   "execution_count": 8,
   "metadata": {},
   "outputs": [
    {
     "name": "stdout",
     "output_type": "stream",
     "text": [
      "Training matrix shape (60000, 784)\n",
      "Testing matrix shape (10000, 784)\n"
     ]
    }
   ],
   "source": [
    "X_train = X_train.reshape(60000, 784)/255  # reshape 60,000 28 x 28 matrices into 60,000 784-length vectors and normalise each value\n",
    "X_test = X_test.reshape(10000, 784)/255  # reshape 10,000 28 x 28 matrices into 10,000 784-length vectors.\n",
    "\n",
    "print(\"Training matrix shape\", X_train.shape)\n",
    "print(\"Testing matrix shape\", X_test.shape)"
   ]
  },
  {
   "cell_type": "code",
   "execution_count": 22,
   "metadata": {},
   "outputs": [],
   "source": [
    "X_train = X_train.astype('float32')/255 \n",
    "X_test = X_test.astype('float32')/255 "
   ]
  },
  {
   "cell_type": "code",
   "execution_count": 23,
   "metadata": {},
   "outputs": [],
   "source": [
    "nb_classes = 10 # number of unique digits\n",
    "\n",
    "Y_train = keras.utils.to_categorical(y_train, nb_classes)\n",
    "Y_test = keras.utils.to_categorical(y_test, nb_classes)"
   ]
  },
  {
   "cell_type": "markdown",
   "metadata": {},
   "source": [
    "## Multi-Layer Perceptron"
   ]
  },
  {
   "cell_type": "code",
   "execution_count": 24,
   "metadata": {},
   "outputs": [
    {
     "name": "stdout",
     "output_type": "stream",
     "text": [
      "Model: \"sequential_6\"\n",
      "_________________________________________________________________\n",
      " Layer (type)                Output Shape              Param #   \n",
      "=================================================================\n",
      " flatten_5 (Flatten)         (None, 784)               0         \n",
      "                                                                 \n",
      " dense_18 (Dense)            (None, 200)               157000    \n",
      "                                                                 \n",
      " dense_19 (Dense)            (None, 60)                12060     \n",
      "                                                                 \n",
      " dense_20 (Dense)            (None, 10)                610       \n",
      "                                                                 \n",
      "=================================================================\n",
      "Total params: 169,670\n",
      "Trainable params: 169,670\n",
      "Non-trainable params: 0\n",
      "_________________________________________________________________\n",
      "None\n"
     ]
    }
   ],
   "source": [
    "model = tf.keras.Sequential([\n",
    "    tf.keras.layers.Flatten(input_shape=[28, 28, 1]),\n",
    "    tf.keras.layers.Dense(200, activation=\"relu\"),\n",
    "    tf.keras.layers.Dense(60, activation=\"relu\"),\n",
    "    tf.keras.layers.Dense(10, activation='softmax')]) # classifying into 10 classes\n",
    "\n",
    "\n",
    "print(model.summary())\n"
   ]
  },
  {
   "cell_type": "markdown",
   "metadata": {},
   "source": [
    "## Optimisation"
   ]
  },
  {
   "cell_type": "code",
   "execution_count": 25,
   "metadata": {},
   "outputs": [],
   "source": [
    "# this configures the training of the model. Keras calls it \"compiling\" the model.\n",
    "model.compile(\n",
    "    optimizer='adam',\n",
    "    loss= 'categorical_crossentropy',\n",
    "    metrics=['accuracy']) # % of correct answers\n"
   ]
  },
  {
   "cell_type": "markdown",
   "metadata": {},
   "source": [
    "## Back Propogation"
   ]
  },
  {
   "cell_type": "markdown",
   "metadata": {},
   "source": [
    "#  Train Model"
   ]
  },
  {
   "cell_type": "code",
   "execution_count": 26,
   "metadata": {},
   "outputs": [
    {
     "name": "stdout",
     "output_type": "stream",
     "text": [
      "Epoch 1/5\n"
     ]
    },
    {
     "name": "stderr",
     "output_type": "stream",
     "text": [
      "2022-02-22 13:56:15.974109: W tensorflow/core/framework/cpu_allocator_impl.cc:82] Allocation of 188160000 exceeds 10% of free system memory.\n"
     ]
    },
    {
     "name": "stdout",
     "output_type": "stream",
     "text": [
      "469/469 [==============================] - 6s 7ms/step - loss: 0.3002 - accuracy: 0.9151\n",
      "Epoch 2/5\n",
      "469/469 [==============================] - 3s 7ms/step - loss: 0.1184 - accuracy: 0.9654\n",
      "Epoch 3/5\n",
      "469/469 [==============================] - 3s 7ms/step - loss: 0.0787 - accuracy: 0.9758\n",
      "Epoch 4/5\n",
      "469/469 [==============================] - 3s 7ms/step - loss: 0.0589 - accuracy: 0.9822\n",
      "Epoch 5/5\n",
      "469/469 [==============================] - 3s 7ms/step - loss: 0.0450 - accuracy: 0.9863\n"
     ]
    },
    {
     "data": {
      "text/plain": [
       "<keras.callbacks.History at 0x7f16f49613c0>"
      ]
     },
     "execution_count": 26,
     "metadata": {},
     "output_type": "execute_result"
    }
   ],
   "source": [
    "model.fit(X_train, Y_train,\n",
    "          batch_size=128, epochs=5,\n",
    "          verbose=1)"
   ]
  },
  {
   "cell_type": "markdown",
   "metadata": {},
   "source": [
    "# Evaluation"
   ]
  },
  {
   "cell_type": "code",
   "execution_count": 27,
   "metadata": {},
   "outputs": [
    {
     "name": "stdout",
     "output_type": "stream",
     "text": [
      "313/313 [==============================] - 1s 2ms/step - loss: 0.0818 - accuracy: 0.9753\n",
      "Test score: 0.08177376538515091\n",
      "Test accuracy: 0.9753000140190125\n"
     ]
    }
   ],
   "source": [
    "score = model.evaluate(X_test, Y_test)\n",
    "print('Test score:', score[0])\n",
    "print('Test accuracy:', score[1])"
   ]
  },
  {
   "cell_type": "code",
   "execution_count": 67,
   "metadata": {},
   "outputs": [
    {
     "data": {
      "image/png": "[encoded data removed]",
      "text/plain": [
       "<Figure size 648x648 with 9 Axes>"
      ]
     },
     "metadata": {
      "needs_background": "light"
     },
     "output_type": "display_data"
    },
    {
     "data": {
      "image/png": "[encoded data removed]",
      "text/plain": [
       "<Figure size 648x648 with 9 Axes>"
      ]
     },
     "metadata": {
      "needs_background": "light"
     },
     "output_type": "display_data"
    }
   ],
   "source": [
    "# The predict_classes function outputs the highest probability class according to the trained classifier for each input example.\n",
    "predicted_classes = model.predict(X_test)\n",
    "\n",
    "# Check which items we got right / wrong\n",
    "correct_indices, incorrect_indices = [], []\n",
    "for index, prediction_array in enumerate(predicted_classes):\n",
    "    prediction = np.argmax(prediction_array)  #use the largest value of the array as the network's prediction\n",
    "    Y_label    = np.argmax(Y_test[index])     #use the largest value of the array as the truth label\n",
    "    if prediction == Y_label:   correct_indices.append(index)\n",
    "    else:                     incorrect_indices.append(index)\n",
    "\n",
    "for index, correct in enumerate(correct_indices[:9]):\n",
    "    plt.subplot(3,3,index+1)\n",
    "    plt.imshow(X_test[correct].reshape(28,28), cmap='gray', interpolation='none')\n",
    "    plt.title(\"Predicted {}, Class {}\".format(np.argmax(predicted_classes[correct]), y_test[correct]))\n",
    "plt.show()\n",
    "    \n",
    "for index, incorrect in enumerate(incorrect_indices[:9]):\n",
    "    plt.subplot(3,3,index+1)\n",
    "    plt.imshow(X_test[incorrect].reshape(28,28), cmap='gray', interpolation='none')\n",
    "    plt.title(\"Predicted {}, Class {}\".format(np.argmax(predicted_classes[incorrect]), y_test[incorrect]))\n",
    "plt.show()"
   ]
  },
  {
   "cell_type": "markdown",
   "metadata": {},
   "source": [
    "# Art vs Science - Experimentation"
   ]
  },
  {
   "cell_type": "markdown",
   "metadata": {},
   "source": [
    "How does increasing the batch size to 10,000 affect the training time and test accuracy?\n",
    "\n",
    "How about a batch size of 32?"
   ]
  },
  {
   "cell_type": "markdown",
   "metadata": {},
   "source": [
    "## Overfitting"
   ]
  },
  {
   "cell_type": "code",
   "execution_count": null,
   "metadata": {},
   "outputs": [],
   "source": []
  },
  {
   "cell_type": "markdown",
   "metadata": {},
   "source": [
    "## Regularisation"
   ]
  },
  {
   "cell_type": "code",
   "execution_count": null,
   "metadata": {},
   "outputs": [],
   "source": []
  },
  {
   "cell_type": "markdown",
   "metadata": {},
   "source": [
    "# Conv Nets?"
   ]
  },
  {
   "cell_type": "markdown",
   "metadata": {},
   "source": []
  }
 ],
 "metadata": {
  "interpreter": {
   "hash": "17b820bf751b809b21a5b68d4073505dbcbcd2e1776d288dde8ec444487d8b66"
  },
  "kernelspec": {
   "display_name": "Python 3.9.7 ('is500')",
   "language": "python",
   "name": "python3"
  },
  "language_info": {
   "codemirror_mode": {
    "name": "ipython",
    "version": 3
   },
   "file_extension": ".py",
   "mimetype": "text/x-python",
   "name": "python",
   "nbconvert_exporter": "python",
   "pygments_lexer": "ipython3",
   "version": "3.10.2"
  },
  "orig_nbformat": 4
 },
 "nbformat": 4,
 "nbformat_minor": 2
}
